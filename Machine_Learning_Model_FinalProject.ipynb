{
 "cells": [
  {
   "cell_type": "code",
   "execution_count": 36,
   "id": "17afeaf2",
   "metadata": {},
   "outputs": [],
   "source": [
    "import warnings\n",
    "warnings.filterwarnings('ignore')"
   ]
  },
  {
   "cell_type": "code",
   "execution_count": 37,
   "id": "10d9a4bc",
   "metadata": {},
   "outputs": [],
   "source": [
    "import numpy as np\n",
    "import pandas as pd\n",
    "from pathlib import Path\n",
    "from collections import Counter"
   ]
  },
  {
   "cell_type": "code",
   "execution_count": 40,
   "id": "fa35ff73",
   "metadata": {},
   "outputs": [],
   "source": [
    "columns = [\n",
    "    \"date_created\", \"e-mail\", \"external_reference\", \"operation_id\",\n",
    "    \"status\", \"status_detail\", \"transaction_amount\", \"installments\",\n",
    "    \"payment_type\", \"hour_created\", \"DOW_created\", \"month_created\",\"Shp_Carrier\",\n",
    "    \"Shipping\", \"bill_zipcode\", \"shp_zipcode\", \"fraud_flag\"\n",
    "]\n",
    "\n",
    "target = [\"fraud_flag\"]"
   ]
  },
  {
   "cell_type": "code",
   "execution_count": 41,
   "id": "fb15ac4d",
   "metadata": {},
   "outputs": [
    {
     "data": {
      "text/html": [
       "<div>\n",
       "<style scoped>\n",
       "    .dataframe tbody tr th:only-of-type {\n",
       "        vertical-align: middle;\n",
       "    }\n",
       "\n",
       "    .dataframe tbody tr th {\n",
       "        vertical-align: top;\n",
       "    }\n",
       "\n",
       "    .dataframe thead th {\n",
       "        text-align: right;\n",
       "    }\n",
       "</style>\n",
       "<table border=\"1\" class=\"dataframe\">\n",
       "  <thead>\n",
       "    <tr style=\"text-align: right;\">\n",
       "      <th></th>\n",
       "      <th>date_created</th>\n",
       "      <th>e-mail</th>\n",
       "      <th>external_reference</th>\n",
       "      <th>operation_id</th>\n",
       "      <th>status</th>\n",
       "      <th>status_detail</th>\n",
       "      <th>transaction_amount</th>\n",
       "      <th>installments</th>\n",
       "      <th>payment_type</th>\n",
       "      <th>hour_created</th>\n",
       "      <th>DOW_created</th>\n",
       "      <th>month_created</th>\n",
       "      <th>Shp_Carrier</th>\n",
       "      <th>Shipping</th>\n",
       "      <th>bill_zipcode</th>\n",
       "      <th>shp_zipcode</th>\n",
       "      <th>fraud_flag</th>\n",
       "    </tr>\n",
       "  </thead>\n",
       "  <tbody>\n",
       "    <tr>\n",
       "      <th>0</th>\n",
       "      <td>17/05/2022 17:02</td>\n",
       "      <td>34</td>\n",
       "      <td>375285</td>\n",
       "      <td>22439390268</td>\n",
       "      <td>approved</td>\n",
       "      <td>accredited</td>\n",
       "      <td>4549.0</td>\n",
       "      <td>1</td>\n",
       "      <td>debit_card</td>\n",
       "      <td>17</td>\n",
       "      <td>1</td>\n",
       "      <td>5</td>\n",
       "      <td>DHL - Servicio Express (Entrega promedio de 1 ...</td>\n",
       "      <td>139</td>\n",
       "      <td>88660</td>\n",
       "      <td>88660</td>\n",
       "      <td>Not Fraud</td>\n",
       "    </tr>\n",
       "    <tr>\n",
       "      <th>1</th>\n",
       "      <td>17/05/2022 17:00</td>\n",
       "      <td>35</td>\n",
       "      <td>375284</td>\n",
       "      <td>22439310665</td>\n",
       "      <td>approved</td>\n",
       "      <td>accredited</td>\n",
       "      <td>4549.0</td>\n",
       "      <td>1</td>\n",
       "      <td>debit_card</td>\n",
       "      <td>17</td>\n",
       "      <td>1</td>\n",
       "      <td>5</td>\n",
       "      <td>DHL - Servicio Express (Entrega promedio de 1 ...</td>\n",
       "      <td>139</td>\n",
       "      <td>88660</td>\n",
       "      <td>88660</td>\n",
       "      <td>Not Fraud</td>\n",
       "    </tr>\n",
       "    <tr>\n",
       "      <th>2</th>\n",
       "      <td>17/05/2022 13:23</td>\n",
       "      <td>36</td>\n",
       "      <td>375213</td>\n",
       "      <td>22433076416</td>\n",
       "      <td>rejected</td>\n",
       "      <td>cc_rejected_high_risk</td>\n",
       "      <td>6378.0</td>\n",
       "      <td>3</td>\n",
       "      <td>credit_card</td>\n",
       "      <td>13</td>\n",
       "      <td>1</td>\n",
       "      <td>5</td>\n",
       "      <td>DHL - Servicio Express (Entrega promedio de 1 ...</td>\n",
       "      <td>139</td>\n",
       "      <td>89350</td>\n",
       "      <td>89350</td>\n",
       "      <td>Not Fraud</td>\n",
       "    </tr>\n",
       "    <tr>\n",
       "      <th>3</th>\n",
       "      <td>17/05/2022 13:26</td>\n",
       "      <td>37</td>\n",
       "      <td>375217</td>\n",
       "      <td>22433120457</td>\n",
       "      <td>rejected</td>\n",
       "      <td>cc_rejected_high_risk</td>\n",
       "      <td>6378.0</td>\n",
       "      <td>1</td>\n",
       "      <td>credit_card</td>\n",
       "      <td>13</td>\n",
       "      <td>1</td>\n",
       "      <td>5</td>\n",
       "      <td>DHL - Servicio Express (Entrega promedio de 1 ...</td>\n",
       "      <td>139</td>\n",
       "      <td>89350</td>\n",
       "      <td>89350</td>\n",
       "      <td>Not Fraud</td>\n",
       "    </tr>\n",
       "    <tr>\n",
       "      <th>4</th>\n",
       "      <td>17/05/2022 15:01</td>\n",
       "      <td>38</td>\n",
       "      <td>375235</td>\n",
       "      <td>22435577370</td>\n",
       "      <td>approved</td>\n",
       "      <td>accredited</td>\n",
       "      <td>6689.0</td>\n",
       "      <td>9</td>\n",
       "      <td>credit_card</td>\n",
       "      <td>15</td>\n",
       "      <td>1</td>\n",
       "      <td>5</td>\n",
       "      <td>Federal Express - Servicio Económico (Entrega ...</td>\n",
       "      <td>0</td>\n",
       "      <td>55067</td>\n",
       "      <td>55067</td>\n",
       "      <td>Not Fraud</td>\n",
       "    </tr>\n",
       "  </tbody>\n",
       "</table>\n",
       "</div>"
      ],
      "text/plain": [
       "       date_created  e-mail  external_reference  operation_id    status  \\\n",
       "0  17/05/2022 17:02      34              375285   22439390268  approved   \n",
       "1  17/05/2022 17:00      35              375284   22439310665  approved   \n",
       "2  17/05/2022 13:23      36              375213   22433076416  rejected   \n",
       "3  17/05/2022 13:26      37              375217   22433120457  rejected   \n",
       "4  17/05/2022 15:01      38              375235   22435577370  approved   \n",
       "\n",
       "           status_detail  transaction_amount  installments payment_type  \\\n",
       "0             accredited              4549.0             1   debit_card   \n",
       "1             accredited              4549.0             1   debit_card   \n",
       "2  cc_rejected_high_risk              6378.0             3  credit_card   \n",
       "3  cc_rejected_high_risk              6378.0             1  credit_card   \n",
       "4             accredited              6689.0             9  credit_card   \n",
       "\n",
       "   hour_created  DOW_created  month_created  \\\n",
       "0            17            1              5   \n",
       "1            17            1              5   \n",
       "2            13            1              5   \n",
       "3            13            1              5   \n",
       "4            15            1              5   \n",
       "\n",
       "                                         Shp_Carrier  Shipping  bill_zipcode  \\\n",
       "0  DHL - Servicio Express (Entrega promedio de 1 ...       139         88660   \n",
       "1  DHL - Servicio Express (Entrega promedio de 1 ...       139         88660   \n",
       "2  DHL - Servicio Express (Entrega promedio de 1 ...       139         89350   \n",
       "3  DHL - Servicio Express (Entrega promedio de 1 ...       139         89350   \n",
       "4  Federal Express - Servicio Económico (Entrega ...         0         55067   \n",
       "\n",
       "   shp_zipcode fraud_flag  \n",
       "0        88660  Not Fraud  \n",
       "1        88660  Not Fraud  \n",
       "2        89350  Not Fraud  \n",
       "3        89350  Not Fraud  \n",
       "4        55067  Not Fraud  "
      ]
     },
     "execution_count": 41,
     "metadata": {},
     "output_type": "execute_result"
    }
   ],
   "source": [
    "# Load the data\n",
    "file_path = Path('Resources/Whole_Collection.csv')\n",
    "df = pd.read_csv(file_path)[:-2]\n",
    "df = df.loc[:, columns].copy()\n",
    "\n",
    "# Drop the null columns where all values are null\n",
    "df = df.dropna(axis='columns', how='all')\n",
    "\n",
    "# Drop the null rows\n",
    "df = df.dropna()\n",
    "\n",
    "df.head()"
   ]
  },
  {
   "cell_type": "code",
   "execution_count": 42,
   "id": "1941ae2b",
   "metadata": {},
   "outputs": [
    {
     "data": {
      "text/plain": [
       "Index(['date_created', 'e-mail', 'external_reference', 'operation_id',\n",
       "       'status', 'status_detail', 'transaction_amount', 'installments',\n",
       "       'payment_type', 'hour_created', 'DOW_created', 'month_created',\n",
       "       'Shp_Carrier', 'Shipping', 'bill_zipcode', 'shp_zipcode', 'fraud_flag'],\n",
       "      dtype='object')"
      ]
     },
     "execution_count": 42,
     "metadata": {},
     "output_type": "execute_result"
    }
   ],
   "source": [
    "df.columns\n",
    "\n"
   ]
  },
  {
   "cell_type": "code",
   "execution_count": 43,
   "id": "690ba3fc",
   "metadata": {},
   "outputs": [],
   "source": [
    "# Create our features\n",
    "X = df.drop(\"fraud_flag\", axis=1)\n",
    "X = pd.get_dummies(X)\n",
    "\n",
    "# Create our target\n",
    "y = df[target]"
   ]
  },
  {
   "cell_type": "code",
   "execution_count": 44,
   "id": "69ea4d20",
   "metadata": {},
   "outputs": [
    {
     "data": {
      "text/plain": [
       "Not Fraud    19296\n",
       "Fraud          332\n",
       "Name: fraud_flag, dtype: int64"
      ]
     },
     "execution_count": 44,
     "metadata": {},
     "output_type": "execute_result"
    }
   ],
   "source": [
    "# Check the balance of our target values\n",
    "y['fraud_flag'].value_counts()"
   ]
  },
  {
   "cell_type": "code",
   "execution_count": 45,
   "id": "500b7e5e",
   "metadata": {},
   "outputs": [],
   "source": [
    "from sklearn.model_selection import train_test_split\n",
    "X_train, X_test, y_train, y_test = train_test_split(X, y, random_state=1, stratify=y)"
   ]
  },
  {
   "cell_type": "code",
   "execution_count": 46,
   "id": "1313b2b5",
   "metadata": {},
   "outputs": [
    {
     "name": "stdout",
     "output_type": "stream",
     "text": [
      "Original train y: \n",
      "Not Fraud    14472\n",
      "Fraud          249\n",
      "Name: fraud_flag, dtype: int64\n",
      "Resampled train y: \n",
      "Not Fraud    14472\n",
      "Fraud        14472\n",
      "Name: fraud_flag, dtype: int64\n"
     ]
    },
    {
     "data": {
      "text/plain": [
       "Counter({'fraud_flag': 1})"
      ]
     },
     "execution_count": 46,
     "metadata": {},
     "output_type": "execute_result"
    }
   ],
   "source": [
    "# Resample the training data with the RandomOversampler\n",
    "from imblearn.over_sampling import RandomOverSampler\n",
    "ros = RandomOverSampler(random_state=1)\n",
    "X_resampled, y_resampled = ros.fit_resample(X_train, y_train)\n",
    "\n",
    "print('Original train y: ')\n",
    "print(y_train['fraud_flag'].value_counts())\n",
    "print('Resampled train y: ')\n",
    "print(y_resampled['fraud_flag'].value_counts())\n",
    "\n",
    "Counter(y_resampled)"
   ]
  },
  {
   "cell_type": "code",
   "execution_count": 47,
   "id": "9fac7d74",
   "metadata": {},
   "outputs": [
    {
     "data": {
      "text/plain": [
       "LogisticRegression(random_state=1)"
      ]
     },
     "execution_count": 47,
     "metadata": {},
     "output_type": "execute_result"
    }
   ],
   "source": [
    "# Train the Logistic Regression model using the resampled data\n",
    "from sklearn.linear_model import LogisticRegression\n",
    "\n",
    "model = LogisticRegression(solver='lbfgs', random_state=1)\n",
    "model.fit(X_resampled, y_resampled)"
   ]
  },
  {
   "cell_type": "code",
   "execution_count": 48,
   "id": "c37e4bc1",
   "metadata": {},
   "outputs": [
    {
     "data": {
      "text/plain": [
       "0.5"
      ]
     },
     "execution_count": 48,
     "metadata": {},
     "output_type": "execute_result"
    }
   ],
   "source": [
    "y_pred = model.predict(X_test)\n",
    "\n",
    "\n",
    "# Calculated the balanced accuracy score\n",
    "from sklearn.metrics import balanced_accuracy_score\n",
    "\n",
    "balanced_accuracy_score(y_test, y_pred)"
   ]
  },
  {
   "cell_type": "code",
   "execution_count": 50,
   "id": "cbf92ca3",
   "metadata": {},
   "outputs": [
    {
     "name": "stdout",
     "output_type": "stream",
     "text": [
      "                   pre       rec       spe        f1       geo       iba       sup\n",
      "\n",
      "      Fraud       0.00      0.00      1.00      0.00      0.00      0.00        83\n",
      "  Not Fraud       0.98      1.00      0.00      0.99      0.00      0.00      4824\n",
      "\n",
      "avg / total       0.97      0.98      0.02      0.97      0.00      0.00      4907\n",
      "\n"
     ]
    }
   ],
   "source": [
    "# Print the imbalanced classification report\n",
    "from imblearn.metrics import classification_report_imbalanced\n",
    "print(classification_report_imbalanced(y_test, y_pred))"
   ]
  },
  {
   "cell_type": "code",
   "execution_count": 51,
   "id": "8ba0cc00",
   "metadata": {},
   "outputs": [
    {
     "data": {
      "text/plain": [
       "array([[   0,   83],\n",
       "       [   0, 4824]], dtype=int64)"
      ]
     },
     "execution_count": 51,
     "metadata": {},
     "output_type": "execute_result"
    }
   ],
   "source": [
    "# Display the confusion matrix\n",
    "from sklearn.metrics import confusion_matrix\n",
    "\n",
    "y_pred = model.predict(X_test)\n",
    "confusion_matrix(y_test, y_pred)"
   ]
  },
  {
   "cell_type": "code",
   "execution_count": null,
   "id": "75dc2c0c",
   "metadata": {},
   "outputs": [],
   "source": []
  }
 ],
 "metadata": {
  "kernelspec": {
   "display_name": "mlenv",
   "language": "python",
   "name": "mlenv"
  },
  "language_info": {
   "codemirror_mode": {
    "name": "ipython",
    "version": 3
   },
   "file_extension": ".py",
   "mimetype": "text/x-python",
   "name": "python",
   "nbconvert_exporter": "python",
   "pygments_lexer": "ipython3",
   "version": "3.7.11"
  }
 },
 "nbformat": 4,
 "nbformat_minor": 5
}
