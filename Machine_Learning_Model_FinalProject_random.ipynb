{
 "cells": [
  {
   "cell_type": "code",
   "execution_count": 1,
   "id": "92d22cd6",
   "metadata": {},
   "outputs": [],
   "source": [
    "# Initial imports.\n",
    "import pandas as pd\n",
    "from path import Path\n",
    "from sklearn.ensemble import RandomForestClassifier\n",
    "from sklearn.preprocessing import StandardScaler\n",
    "from sklearn.model_selection import train_test_split\n",
    "from sklearn.metrics import confusion_matrix, accuracy_score, classification_report"
   ]
  },
  {
   "cell_type": "code",
   "execution_count": 2,
   "id": "78370138",
   "metadata": {},
   "outputs": [],
   "source": [
    "columns = [\n",
    "    \"date_created\", \"customer_ID\", \"external_reference\", \"operation_id\",\n",
    "    \"status\", \"status_detail\", \"transaction_amount\", \"installments\",\n",
    "    \"payment_type\", \"hour_created\", \"DOW_created\", \"month_created\",\"shp_Carrier\",\n",
    "    \"Shipping\", \"bill_zipcode\", \"shp_zipcode\", \"fraud_flag\", \"Item_1\"\n",
    "]\n",
    "\n",
    "target = [\"fraud_flag\"]"
   ]
  },
  {
   "cell_type": "code",
   "execution_count": 3,
   "id": "e80840f3",
   "metadata": {},
   "outputs": [
    {
     "name": "stderr",
     "output_type": "stream",
     "text": [
      "C:\\Users\\Andrei\\anaconda3\\envs\\mlenv\\lib\\site-packages\\IPython\\core\\interactiveshell.py:3444: DtypeWarning: Columns (31) have mixed types.Specify dtype option on import or set low_memory=False.\n",
      "  exec(code_obj, self.user_global_ns, self.user_ns)\n"
     ]
    },
    {
     "data": {
      "text/html": [
       "<div>\n",
       "<style scoped>\n",
       "    .dataframe tbody tr th:only-of-type {\n",
       "        vertical-align: middle;\n",
       "    }\n",
       "\n",
       "    .dataframe tbody tr th {\n",
       "        vertical-align: top;\n",
       "    }\n",
       "\n",
       "    .dataframe thead th {\n",
       "        text-align: right;\n",
       "    }\n",
       "</style>\n",
       "<table border=\"1\" class=\"dataframe\">\n",
       "  <thead>\n",
       "    <tr style=\"text-align: right;\">\n",
       "      <th></th>\n",
       "      <th>date_created</th>\n",
       "      <th>customer_ID</th>\n",
       "      <th>external_reference</th>\n",
       "      <th>operation_id</th>\n",
       "      <th>status</th>\n",
       "      <th>status_detail</th>\n",
       "      <th>transaction_amount</th>\n",
       "      <th>installments</th>\n",
       "      <th>payment_type</th>\n",
       "      <th>hour_created</th>\n",
       "      <th>DOW_created</th>\n",
       "      <th>month_created</th>\n",
       "      <th>shp_Carrier</th>\n",
       "      <th>Shipping</th>\n",
       "      <th>bill_zipcode</th>\n",
       "      <th>shp_zipcode</th>\n",
       "      <th>fraud_flag</th>\n",
       "      <th>Item_1</th>\n",
       "    </tr>\n",
       "  </thead>\n",
       "  <tbody>\n",
       "    <tr>\n",
       "      <th>0</th>\n",
       "      <td>2022-05-17 17:02:12</td>\n",
       "      <td>2383</td>\n",
       "      <td>375285</td>\n",
       "      <td>22439390268</td>\n",
       "      <td>approved</td>\n",
       "      <td>accredited</td>\n",
       "      <td>4549.0</td>\n",
       "      <td>1</td>\n",
       "      <td>debit_card</td>\n",
       "      <td>17</td>\n",
       "      <td>1</td>\n",
       "      <td>5</td>\n",
       "      <td>DHL</td>\n",
       "      <td>139</td>\n",
       "      <td>88660</td>\n",
       "      <td>88660</td>\n",
       "      <td>No</td>\n",
       "      <td>TMG50V64GB</td>\n",
       "    </tr>\n",
       "    <tr>\n",
       "      <th>1</th>\n",
       "      <td>2022-05-17 17:00:42</td>\n",
       "      <td>2383</td>\n",
       "      <td>375284</td>\n",
       "      <td>22439310665</td>\n",
       "      <td>approved</td>\n",
       "      <td>accredited</td>\n",
       "      <td>4549.0</td>\n",
       "      <td>1</td>\n",
       "      <td>debit_card</td>\n",
       "      <td>17</td>\n",
       "      <td>1</td>\n",
       "      <td>5</td>\n",
       "      <td>DHL</td>\n",
       "      <td>139</td>\n",
       "      <td>88660</td>\n",
       "      <td>88660</td>\n",
       "      <td>No</td>\n",
       "      <td>TMG50V64GB</td>\n",
       "    </tr>\n",
       "    <tr>\n",
       "      <th>2</th>\n",
       "      <td>2022-05-17 13:23:07</td>\n",
       "      <td>2811</td>\n",
       "      <td>375213</td>\n",
       "      <td>22433076416</td>\n",
       "      <td>rejected</td>\n",
       "      <td>cc_rejected_high_risk</td>\n",
       "      <td>6378.0</td>\n",
       "      <td>3</td>\n",
       "      <td>credit_card</td>\n",
       "      <td>13</td>\n",
       "      <td>1</td>\n",
       "      <td>5</td>\n",
       "      <td>DHL</td>\n",
       "      <td>139</td>\n",
       "      <td>89350</td>\n",
       "      <td>89350</td>\n",
       "      <td>No</td>\n",
       "      <td>TMG7AZUL</td>\n",
       "    </tr>\n",
       "    <tr>\n",
       "      <th>3</th>\n",
       "      <td>2022-05-17 13:26:43</td>\n",
       "      <td>2811</td>\n",
       "      <td>375217</td>\n",
       "      <td>22433120457</td>\n",
       "      <td>rejected</td>\n",
       "      <td>cc_rejected_high_risk</td>\n",
       "      <td>6378.0</td>\n",
       "      <td>1</td>\n",
       "      <td>credit_card</td>\n",
       "      <td>13</td>\n",
       "      <td>1</td>\n",
       "      <td>5</td>\n",
       "      <td>DHL</td>\n",
       "      <td>139</td>\n",
       "      <td>89350</td>\n",
       "      <td>89350</td>\n",
       "      <td>No</td>\n",
       "      <td>TMG7AZUL</td>\n",
       "    </tr>\n",
       "    <tr>\n",
       "      <th>4</th>\n",
       "      <td>2022-05-17 15:01:25</td>\n",
       "      <td>4291</td>\n",
       "      <td>375235</td>\n",
       "      <td>22435577370</td>\n",
       "      <td>approved</td>\n",
       "      <td>accredited</td>\n",
       "      <td>6689.0</td>\n",
       "      <td>9</td>\n",
       "      <td>credit_card</td>\n",
       "      <td>15</td>\n",
       "      <td>1</td>\n",
       "      <td>5</td>\n",
       "      <td>FederalExpress</td>\n",
       "      <td>0</td>\n",
       "      <td>55067</td>\n",
       "      <td>55067</td>\n",
       "      <td>No</td>\n",
       "      <td>TMREALMEGTG</td>\n",
       "    </tr>\n",
       "  </tbody>\n",
       "</table>\n",
       "</div>"
      ],
      "text/plain": [
       "          date_created  customer_ID  external_reference  operation_id  \\\n",
       "0  2022-05-17 17:02:12         2383              375285   22439390268   \n",
       "1  2022-05-17 17:00:42         2383              375284   22439310665   \n",
       "2  2022-05-17 13:23:07         2811              375213   22433076416   \n",
       "3  2022-05-17 13:26:43         2811              375217   22433120457   \n",
       "4  2022-05-17 15:01:25         4291              375235   22435577370   \n",
       "\n",
       "     status          status_detail  transaction_amount  installments  \\\n",
       "0  approved             accredited              4549.0             1   \n",
       "1  approved             accredited              4549.0             1   \n",
       "2  rejected  cc_rejected_high_risk              6378.0             3   \n",
       "3  rejected  cc_rejected_high_risk              6378.0             1   \n",
       "4  approved             accredited              6689.0             9   \n",
       "\n",
       "  payment_type  hour_created  DOW_created  month_created     shp_Carrier  \\\n",
       "0   debit_card            17            1              5             DHL   \n",
       "1   debit_card            17            1              5             DHL   \n",
       "2  credit_card            13            1              5             DHL   \n",
       "3  credit_card            13            1              5             DHL   \n",
       "4  credit_card            15            1              5  FederalExpress   \n",
       "\n",
       "   Shipping  bill_zipcode  shp_zipcode fraud_flag       Item_1  \n",
       "0       139         88660        88660         No   TMG50V64GB  \n",
       "1       139         88660        88660         No   TMG50V64GB  \n",
       "2       139         89350        89350         No     TMG7AZUL  \n",
       "3       139         89350        89350         No     TMG7AZUL  \n",
       "4         0         55067        55067         No  TMREALMEGTG  "
      ]
     },
     "execution_count": 3,
     "metadata": {},
     "output_type": "execute_result"
    }
   ],
   "source": [
    "# Load the data\n",
    "file_path = Path('Resources/Whole_Collection.csv')\n",
    "df = pd.read_csv(file_path)[:-2]\n",
    "df = df.loc[:, columns].copy()\n",
    "\n",
    "# Drop the null columns where all values are null\n",
    "df = df.dropna(axis='columns', how='all')\n",
    "\n",
    "# Drop the null rows\n",
    "df = df.dropna()\n",
    "\n",
    "df.head()"
   ]
  },
  {
   "cell_type": "code",
   "execution_count": 4,
   "id": "7f130840",
   "metadata": {},
   "outputs": [
    {
     "data": {
      "text/html": [
       "<div>\n",
       "<style scoped>\n",
       "    .dataframe tbody tr th:only-of-type {\n",
       "        vertical-align: middle;\n",
       "    }\n",
       "\n",
       "    .dataframe tbody tr th {\n",
       "        vertical-align: top;\n",
       "    }\n",
       "\n",
       "    .dataframe thead th {\n",
       "        text-align: right;\n",
       "    }\n",
       "</style>\n",
       "<table border=\"1\" class=\"dataframe\">\n",
       "  <thead>\n",
       "    <tr style=\"text-align: right;\">\n",
       "      <th></th>\n",
       "      <th>customer_ID</th>\n",
       "      <th>transaction_amount</th>\n",
       "      <th>installments</th>\n",
       "      <th>month_created</th>\n",
       "      <th>shp_zipcode</th>\n",
       "      <th>fraud_flag</th>\n",
       "    </tr>\n",
       "  </thead>\n",
       "  <tbody>\n",
       "    <tr>\n",
       "      <th>0</th>\n",
       "      <td>2383</td>\n",
       "      <td>4549.0</td>\n",
       "      <td>1</td>\n",
       "      <td>5</td>\n",
       "      <td>88660</td>\n",
       "      <td>No</td>\n",
       "    </tr>\n",
       "    <tr>\n",
       "      <th>1</th>\n",
       "      <td>2383</td>\n",
       "      <td>4549.0</td>\n",
       "      <td>1</td>\n",
       "      <td>5</td>\n",
       "      <td>88660</td>\n",
       "      <td>No</td>\n",
       "    </tr>\n",
       "    <tr>\n",
       "      <th>2</th>\n",
       "      <td>2811</td>\n",
       "      <td>6378.0</td>\n",
       "      <td>3</td>\n",
       "      <td>5</td>\n",
       "      <td>89350</td>\n",
       "      <td>No</td>\n",
       "    </tr>\n",
       "    <tr>\n",
       "      <th>3</th>\n",
       "      <td>2811</td>\n",
       "      <td>6378.0</td>\n",
       "      <td>1</td>\n",
       "      <td>5</td>\n",
       "      <td>89350</td>\n",
       "      <td>No</td>\n",
       "    </tr>\n",
       "    <tr>\n",
       "      <th>4</th>\n",
       "      <td>4291</td>\n",
       "      <td>6689.0</td>\n",
       "      <td>9</td>\n",
       "      <td>5</td>\n",
       "      <td>55067</td>\n",
       "      <td>No</td>\n",
       "    </tr>\n",
       "  </tbody>\n",
       "</table>\n",
       "</div>"
      ],
      "text/plain": [
       "   customer_ID  transaction_amount  installments  month_created  shp_zipcode  \\\n",
       "0         2383              4549.0             1              5        88660   \n",
       "1         2383              4549.0             1              5        88660   \n",
       "2         2811              6378.0             3              5        89350   \n",
       "3         2811              6378.0             1              5        89350   \n",
       "4         4291              6689.0             9              5        55067   \n",
       "\n",
       "  fraud_flag  \n",
       "0         No  \n",
       "1         No  \n",
       "2         No  \n",
       "3         No  \n",
       "4         No  "
      ]
     },
     "execution_count": 4,
     "metadata": {},
     "output_type": "execute_result"
    }
   ],
   "source": [
    "#droping information\n",
    "df = df.drop(['date_created','external_reference','operation_id','status_detail','hour_created','DOW_created','shp_Carrier','Shipping','bill_zipcode','status','payment_type','Item_1'], axis=1)\n",
    "df.head()"
   ]
  },
  {
   "cell_type": "code",
   "execution_count": 5,
   "id": "baff12f0",
   "metadata": {},
   "outputs": [
    {
     "data": {
      "text/html": [
       "<div>\n",
       "<style scoped>\n",
       "    .dataframe tbody tr th:only-of-type {\n",
       "        vertical-align: middle;\n",
       "    }\n",
       "\n",
       "    .dataframe tbody tr th {\n",
       "        vertical-align: top;\n",
       "    }\n",
       "\n",
       "    .dataframe thead th {\n",
       "        text-align: right;\n",
       "    }\n",
       "</style>\n",
       "<table border=\"1\" class=\"dataframe\">\n",
       "  <thead>\n",
       "    <tr style=\"text-align: right;\">\n",
       "      <th></th>\n",
       "      <th>customer_ID</th>\n",
       "      <th>transaction_amount</th>\n",
       "      <th>installments</th>\n",
       "      <th>month_created</th>\n",
       "      <th>shp_zipcode</th>\n",
       "    </tr>\n",
       "  </thead>\n",
       "  <tbody>\n",
       "    <tr>\n",
       "      <th>0</th>\n",
       "      <td>2383</td>\n",
       "      <td>4549.0</td>\n",
       "      <td>1</td>\n",
       "      <td>5</td>\n",
       "      <td>88660</td>\n",
       "    </tr>\n",
       "    <tr>\n",
       "      <th>1</th>\n",
       "      <td>2383</td>\n",
       "      <td>4549.0</td>\n",
       "      <td>1</td>\n",
       "      <td>5</td>\n",
       "      <td>88660</td>\n",
       "    </tr>\n",
       "    <tr>\n",
       "      <th>2</th>\n",
       "      <td>2811</td>\n",
       "      <td>6378.0</td>\n",
       "      <td>3</td>\n",
       "      <td>5</td>\n",
       "      <td>89350</td>\n",
       "    </tr>\n",
       "    <tr>\n",
       "      <th>3</th>\n",
       "      <td>2811</td>\n",
       "      <td>6378.0</td>\n",
       "      <td>1</td>\n",
       "      <td>5</td>\n",
       "      <td>89350</td>\n",
       "    </tr>\n",
       "    <tr>\n",
       "      <th>4</th>\n",
       "      <td>4291</td>\n",
       "      <td>6689.0</td>\n",
       "      <td>9</td>\n",
       "      <td>5</td>\n",
       "      <td>55067</td>\n",
       "    </tr>\n",
       "  </tbody>\n",
       "</table>\n",
       "</div>"
      ],
      "text/plain": [
       "   customer_ID  transaction_amount  installments  month_created  shp_zipcode\n",
       "0         2383              4549.0             1              5        88660\n",
       "1         2383              4549.0             1              5        88660\n",
       "2         2811              6378.0             3              5        89350\n",
       "3         2811              6378.0             1              5        89350\n",
       "4         4291              6689.0             9              5        55067"
      ]
     },
     "execution_count": 5,
     "metadata": {},
     "output_type": "execute_result"
    }
   ],
   "source": [
    "# Define features set\n",
    "X = df.copy()\n",
    "X = X.drop(\"fraud_flag\", axis=1)\n",
    "X.head()"
   ]
  },
  {
   "cell_type": "code",
   "execution_count": 6,
   "id": "0849fde9",
   "metadata": {},
   "outputs": [
    {
     "data": {
      "text/plain": [
       "array([['No'],\n",
       "       ['No'],\n",
       "       ['No'],\n",
       "       ['No'],\n",
       "       ['No']], dtype=object)"
      ]
     },
     "execution_count": 6,
     "metadata": {},
     "output_type": "execute_result"
    }
   ],
   "source": [
    "# Define target vector\n",
    "y = df[\"fraud_flag\"].values.reshape(-1, 1)\n",
    "y[:5]"
   ]
  },
  {
   "cell_type": "code",
   "execution_count": 12,
   "id": "ba74a2d3",
   "metadata": {},
   "outputs": [],
   "source": [
    "# Splitting into Train and Test sets.\n",
    "X_train, X_test, y_train, y_test = train_test_split(X, y, random_state=78)"
   ]
  },
  {
   "cell_type": "code",
   "execution_count": 13,
   "id": "8875f3e9",
   "metadata": {},
   "outputs": [],
   "source": [
    "# Creating a StandardScaler instance.\n",
    "scaler = StandardScaler()\n",
    "# Fitting the Standard Scaler with the training data.\n",
    "X_scaler = scaler.fit(X_train)\n",
    "\n",
    "# Scaling the data.\n",
    "X_train_scaled = X_scaler.transform(X_train)\n",
    "X_test_scaled = X_scaler.transform(X_test)"
   ]
  },
  {
   "cell_type": "code",
   "execution_count": 14,
   "id": "54969284",
   "metadata": {},
   "outputs": [],
   "source": [
    "# Create a random forest classifier.\n",
    "rf_model = RandomForestClassifier(n_estimators=500, random_state=78) "
   ]
  },
  {
   "cell_type": "code",
   "execution_count": 15,
   "id": "67ed8148",
   "metadata": {},
   "outputs": [
    {
     "name": "stderr",
     "output_type": "stream",
     "text": [
      "C:\\Users\\Andrei\\anaconda3\\envs\\mlenv\\lib\\site-packages\\ipykernel_launcher.py:2: DataConversionWarning: A column-vector y was passed when a 1d array was expected. Please change the shape of y to (n_samples,), for example using ravel().\n",
      "  \n"
     ]
    }
   ],
   "source": [
    "# Fitting the model\n",
    "rf_model = rf_model.fit(X_train_scaled, y_train)"
   ]
  },
  {
   "cell_type": "code",
   "execution_count": 16,
   "id": "f5b55dcc",
   "metadata": {},
   "outputs": [],
   "source": [
    "# Making predictions using the testing data.\n",
    "predictions = rf_model.predict(X_test_scaled)"
   ]
  },
  {
   "cell_type": "code",
   "execution_count": 17,
   "id": "a1ad9be1",
   "metadata": {},
   "outputs": [
    {
     "data": {
      "text/html": [
       "<div>\n",
       "<style scoped>\n",
       "    .dataframe tbody tr th:only-of-type {\n",
       "        vertical-align: middle;\n",
       "    }\n",
       "\n",
       "    .dataframe tbody tr th {\n",
       "        vertical-align: top;\n",
       "    }\n",
       "\n",
       "    .dataframe thead th {\n",
       "        text-align: right;\n",
       "    }\n",
       "</style>\n",
       "<table border=\"1\" class=\"dataframe\">\n",
       "  <thead>\n",
       "    <tr style=\"text-align: right;\">\n",
       "      <th></th>\n",
       "      <th>Predicted 0</th>\n",
       "      <th>Predicted 1</th>\n",
       "    </tr>\n",
       "  </thead>\n",
       "  <tbody>\n",
       "    <tr>\n",
       "      <th>Actual 0</th>\n",
       "      <td>4817</td>\n",
       "      <td>8</td>\n",
       "    </tr>\n",
       "    <tr>\n",
       "      <th>Actual 1</th>\n",
       "      <td>57</td>\n",
       "      <td>24</td>\n",
       "    </tr>\n",
       "  </tbody>\n",
       "</table>\n",
       "</div>"
      ],
      "text/plain": [
       "          Predicted 0  Predicted 1\n",
       "Actual 0         4817            8\n",
       "Actual 1           57           24"
      ]
     },
     "execution_count": 17,
     "metadata": {},
     "output_type": "execute_result"
    }
   ],
   "source": [
    "# Calculating the confusion matrix.\n",
    "cm = confusion_matrix(y_test, predictions)\n",
    "\n",
    "# Create a DataFrame from the confusion matrix.\n",
    "cm_df = pd.DataFrame(\n",
    "    cm, index=[\"Actual 0\", \"Actual 1\"], columns=[\"Predicted 0\", \"Predicted 1\"])\n",
    "\n",
    "cm_df"
   ]
  },
  {
   "cell_type": "code",
   "execution_count": 18,
   "id": "e713c0e7",
   "metadata": {},
   "outputs": [],
   "source": [
    "# Calculating the accuracy score.\n",
    "acc_score = accuracy_score(y_test, predictions)"
   ]
  },
  {
   "cell_type": "code",
   "execution_count": 19,
   "id": "6fed2533",
   "metadata": {},
   "outputs": [
    {
     "name": "stdout",
     "output_type": "stream",
     "text": [
      "Confusion Matrix\n"
     ]
    },
    {
     "data": {
      "text/html": [
       "<div>\n",
       "<style scoped>\n",
       "    .dataframe tbody tr th:only-of-type {\n",
       "        vertical-align: middle;\n",
       "    }\n",
       "\n",
       "    .dataframe tbody tr th {\n",
       "        vertical-align: top;\n",
       "    }\n",
       "\n",
       "    .dataframe thead th {\n",
       "        text-align: right;\n",
       "    }\n",
       "</style>\n",
       "<table border=\"1\" class=\"dataframe\">\n",
       "  <thead>\n",
       "    <tr style=\"text-align: right;\">\n",
       "      <th></th>\n",
       "      <th>Predicted 0</th>\n",
       "      <th>Predicted 1</th>\n",
       "    </tr>\n",
       "  </thead>\n",
       "  <tbody>\n",
       "    <tr>\n",
       "      <th>Actual 0</th>\n",
       "      <td>4817</td>\n",
       "      <td>8</td>\n",
       "    </tr>\n",
       "    <tr>\n",
       "      <th>Actual 1</th>\n",
       "      <td>57</td>\n",
       "      <td>24</td>\n",
       "    </tr>\n",
       "  </tbody>\n",
       "</table>\n",
       "</div>"
      ],
      "text/plain": [
       "          Predicted 0  Predicted 1\n",
       "Actual 0         4817            8\n",
       "Actual 1           57           24"
      ]
     },
     "metadata": {},
     "output_type": "display_data"
    },
    {
     "name": "stdout",
     "output_type": "stream",
     "text": [
      "Accuracy Score : 0.9867509172441908\n",
      "Classification Report\n",
      "              precision    recall  f1-score   support\n",
      "\n",
      "          No       0.99      1.00      0.99      4825\n",
      "         Yes       0.75      0.30      0.42        81\n",
      "\n",
      "    accuracy                           0.99      4906\n",
      "   macro avg       0.87      0.65      0.71      4906\n",
      "weighted avg       0.98      0.99      0.98      4906\n",
      "\n"
     ]
    }
   ],
   "source": [
    "# Displaying results\n",
    "print(\"Confusion Matrix\")\n",
    "display(cm_df)\n",
    "print(f\"Accuracy Score : {acc_score}\")\n",
    "print(\"Classification Report\")\n",
    "print(classification_report(y_test, predictions))"
   ]
  },
  {
   "cell_type": "code",
   "execution_count": 20,
   "id": "6d6299e5",
   "metadata": {},
   "outputs": [
    {
     "data": {
      "text/plain": [
       "array([0.33138261, 0.22064085, 0.02746666, 0.08749141, 0.33301847])"
      ]
     },
     "execution_count": 20,
     "metadata": {},
     "output_type": "execute_result"
    }
   ],
   "source": [
    "# Calculate feature importance in the Random Forest model.\n",
    "importances = rf_model.feature_importances_\n",
    "importances"
   ]
  },
  {
   "cell_type": "code",
   "execution_count": 21,
   "id": "955f79f8",
   "metadata": {},
   "outputs": [
    {
     "data": {
      "text/plain": [
       "[(0.3330184678694324, 'shp_zipcode'),\n",
       " (0.3313826136352228, 'customer_ID'),\n",
       " (0.2206408465612854, 'transaction_amount'),\n",
       " (0.08749141333159882, 'month_created'),\n",
       " (0.027466658602460645, 'installments')]"
      ]
     },
     "execution_count": 21,
     "metadata": {},
     "output_type": "execute_result"
    }
   ],
   "source": [
    "# We can sort the features by their importance.\n",
    "sorted(zip(rf_model.feature_importances_, X.columns), reverse=True)"
   ]
  },
  {
   "cell_type": "code",
   "execution_count": null,
   "id": "99a4ace5",
   "metadata": {},
   "outputs": [],
   "source": []
  }
 ],
 "metadata": {
  "kernelspec": {
   "display_name": "mlenv",
   "language": "python",
   "name": "mlenv"
  },
  "language_info": {
   "codemirror_mode": {
    "name": "ipython",
    "version": 3
   },
   "file_extension": ".py",
   "mimetype": "text/x-python",
   "name": "python",
   "nbconvert_exporter": "python",
   "pygments_lexer": "ipython3",
   "version": "3.7.11"
  }
 },
 "nbformat": 4,
 "nbformat_minor": 5
}
