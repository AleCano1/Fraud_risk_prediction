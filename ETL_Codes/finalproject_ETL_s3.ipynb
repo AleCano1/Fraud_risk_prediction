{
  "nbformat": 4,
  "nbformat_minor": 0,
  "metadata": {
    "colab": {
      "name": "finalproject_ETL_s3.ipynb",
      "provenance": [],
      "collapsed_sections": []
    },
    "kernelspec": {
      "name": "python3",
      "display_name": "Python 3"
    },
    "language_info": {
      "name": "python"
    }
  },
  "cells": [
    {
      "cell_type": "code",
      "execution_count": 2,
      "metadata": {
        "id": "0pxfZnavmUdD",
        "colab": {
          "base_uri": "https://localhost:8080/"
        },
        "outputId": "ad27d8c5-27e4-4958-9dad-69f6de59aa30"
      },
      "outputs": [
        {
          "output_type": "stream",
          "name": "stdout",
          "text": [
            "\r0% [Working]\r            \rHit:1 http://security.ubuntu.com/ubuntu bionic-security InRelease\n",
            "\r0% [Connecting to archive.ubuntu.com (185.125.190.36)] [Connected to cloud.r-pr\r0% [1 InRelease gpgv 88.7 kB] [Connecting to archive.ubuntu.com (185.125.190.36\r                                                                               \rHit:2 https://developer.download.nvidia.com/compute/cuda/repos/ubuntu1804/x86_64  InRelease\n",
            "Hit:3 https://cloud.r-project.org/bin/linux/ubuntu bionic-cran40/ InRelease\n",
            "Hit:4 http://ppa.launchpad.net/c2d4u.team/c2d4u4.0+/ubuntu bionic InRelease\n",
            "Ign:5 https://developer.download.nvidia.com/compute/machine-learning/repos/ubuntu1804/x86_64  InRelease\n",
            "Hit:6 http://archive.ubuntu.com/ubuntu bionic InRelease\n",
            "Hit:7 https://developer.download.nvidia.com/compute/machine-learning/repos/ubuntu1804/x86_64  Release\n",
            "Hit:8 http://archive.ubuntu.com/ubuntu bionic-updates InRelease\n",
            "Hit:9 http://ppa.launchpad.net/cran/libgit2/ubuntu bionic InRelease\n",
            "Hit:10 http://archive.ubuntu.com/ubuntu bionic-backports InRelease\n",
            "Hit:11 http://ppa.launchpad.net/deadsnakes/ppa/ubuntu bionic InRelease\n",
            "Hit:12 http://ppa.launchpad.net/graphics-drivers/ppa/ubuntu bionic InRelease\n",
            "Reading package lists... Done\n"
          ]
        }
      ],
      "source": [
        "import os\n",
        "# Find the latest version of spark 3.0 from http://www.apache.org/dist/spark/ and enter as the spark version\n",
        "# For example:\n",
        "# spark_version = 'spark-3.0.3'\n",
        "spark_version = 'spark-3.0.3'\n",
        "os.environ['SPARK_VERSION']=spark_version\n",
        "\n",
        "# Install Spark and Java\n",
        "!apt-get update\n",
        "!apt-get install openjdk-11-jdk-headless -qq > /dev/null\n",
        "!wget -q http://www.apache.org/dist/spark/$SPARK_VERSION/$SPARK_VERSION-bin-hadoop2.7.tgz\n",
        "!tar xf $SPARK_VERSION-bin-hadoop2.7.tgz\n",
        "!pip install -q findspark\n",
        "\n",
        "# Set Environment Variables\n",
        "import os\n",
        "os.environ[\"JAVA_HOME\"] = \"/usr/lib/jvm/java-11-openjdk-amd64\"\n",
        "os.environ[\"SPARK_HOME\"] = f\"/content/{spark_version}-bin-hadoop2.7\"\n",
        "\n",
        "# Start a SparkSession\n",
        "import findspark\n",
        "findspark.init()\n",
        "import pandas as pd"
      ]
    },
    {
      "cell_type": "code",
      "source": [
        "# Download the Postgres driver that will allow Spark to interact with Postgres.\n",
        "!wget https://jdbc.postgresql.org/download/postgresql-42.2.16.jar"
      ],
      "metadata": {
        "colab": {
          "base_uri": "https://localhost:8080/"
        },
        "id": "BDVqGdCLpUWp",
        "outputId": "4637b20a-feb4-41e4-9cfc-216ad1f9d876"
      },
      "execution_count": 3,
      "outputs": [
        {
          "output_type": "stream",
          "name": "stdout",
          "text": [
            "--2022-06-05 20:55:38--  https://jdbc.postgresql.org/download/postgresql-42.2.16.jar\n",
            "Resolving jdbc.postgresql.org (jdbc.postgresql.org)... 72.32.157.228, 2001:4800:3e1:1::228\n",
            "Connecting to jdbc.postgresql.org (jdbc.postgresql.org)|72.32.157.228|:443... connected.\n",
            "HTTP request sent, awaiting response... 200 OK\n",
            "Length: 1002883 (979K) [application/java-archive]\n",
            "Saving to: ‘postgresql-42.2.16.jar’\n",
            "\n",
            "postgresql-42.2.16. 100%[===================>] 979.38K  --.-KB/s    in 0.1s    \n",
            "\n",
            "2022-06-05 20:55:38 (6.42 MB/s) - ‘postgresql-42.2.16.jar’ saved [1002883/1002883]\n",
            "\n"
          ]
        }
      ]
    },
    {
      "cell_type": "code",
      "source": [
        "from pyspark.sql import SparkSession\n",
        "spark = SparkSession.builder.appName(\"M16-Amazon-Challenge\").config(\"spark.driver.extraClassPath\",\"/content/postgresql-42.2.16.jar\").getOrCreate()"
      ],
      "metadata": {
        "id": "TRmfZiyIpVUb"
      },
      "execution_count": 4,
      "outputs": []
    },
    {
      "cell_type": "code",
      "source": [
        "from pyspark import SparkFiles\n",
        "# Load in whole_collection from S3 into a DataFrame\n",
        "url = \"https://my-team3-tmfinalproject2022.s3.amazonaws.com/Whole_Collection.csv\"\n",
        "spark.sparkContext.addFile(url)\n",
        "\n",
        "whole_collection_df = spark.read.option('header', 'true').csv(SparkFiles.get(\"Whole_Collection.csv\"), inferSchema=True, sep=',',timestampFormat=\"yyyy-mm-dd hh mm ss\")\n",
        "whole_collection_df.show(10)"
      ],
      "metadata": {
        "colab": {
          "base_uri": "https://localhost:8080/"
        },
        "id": "EGVDRUD2pVhw",
        "outputId": "2f771bf4-0696-484d-9898-dd6dbf7203af"
      },
      "execution_count": 30,
      "outputs": [
        {
          "output_type": "stream",
          "name": "stdout",
          "text": [
            "+-------------------+-----------+------------------+------------+--------+--------------------+------------------+------------+-------------+------------+-----------+-------------+------------------+-------------------+------------------+-----------------+-------------------+--------------+--------+------------+-----------+----------+-----------+------+------+------+------+------+------+------+------+\n",
            "|       date_created|customer_ID|external_reference|operation_id|  status|       status_detail|transaction_amount|installments| payment_type|hour_created|DOW_created|month_created|claim_date_created|claim_status_detail|claim_hour_created|claim_DOW_created|claim_month_created|   shp_Carrier|Shipping|bill_zipcode|shp_zipcode|fraud_flag|     Item_1|Item_2|Item_3|Item_4|Item_5|Item_6|Item_7|Item_8|Item_9|\n",
            "+-------------------+-----------+------------------+------------+--------+--------------------+------------------+------------+-------------+------------+-----------+-------------+------------------+-------------------+------------------+-----------------+-------------------+--------------+--------+------------+-----------+----------+-----------+------+------+------+------+------+------+------+------+\n",
            "|2022-05-17 17:02:12|       2383|            375285| 22439390268|approved|          accredited|            4549.0|           1|   debit_card|          17|          1|            5|              null|               none|              null|             null|               null|           DHL|     139|       88660|      88660|        No| TMG50V64GB|  null|  null|  null|  null|  null|  null|  null|  null|\n",
            "|2022-05-17 17:00:42|       2383|            375284| 22439310665|approved|          accredited|            4549.0|           1|   debit_card|          17|          1|            5|              null|               none|              null|             null|               null|           DHL|     139|       88660|      88660|        No| TMG50V64GB|  null|  null|  null|  null|  null|  null|  null|  null|\n",
            "|2022-05-17 13:23:07|       2811|            375213| 22433076416|rejected|cc_rejected_high_...|            6378.0|           3|  credit_card|          13|          1|            5|              null|               none|              null|             null|               null|           DHL|     139|       89350|      89350|        No|   TMG7AZUL|  null|  null|  null|  null|  null|  null|  null|  null|\n",
            "|2022-05-17 13:26:43|       2811|            375217| 22433120457|rejected|cc_rejected_high_...|            6378.0|           1|  credit_card|          13|          1|            5|              null|               none|              null|             null|               null|           DHL|     139|       89350|      89350|        No|   TMG7AZUL|  null|  null|  null|  null|  null|  null|  null|  null|\n",
            "|2022-05-17 15:01:25|       4291|            375235| 22435577370|approved|          accredited|            6689.0|           9|  credit_card|          15|          1|            5|              null|               none|              null|             null|               null|FederalExpress|       0|       55067|      55067|        No|TMREALMEGTG|  null|  null|  null|  null|  null|  null|  null|  null|\n",
            "|2022-05-17 14:26:29|       1298|            375231| 22434583898|approved|          accredited|              98.0|           1|account_money|          14|          1|            5|              null|               none|              null|             null|               null|FederalExpress|      39|       57940|      57940|        No|   TMCHIP30|  null|  null|  null|  null|  null|  null|  null|  null|\n",
            "|2022-05-17 11:48:02|       6384|            375173| 22430528734|rejected|cc_rejected_other...|            2619.0|           1|  credit_card|          11|          1|            5|              null|               none|              null|             null|               null|      Estafeta|      99|       26200|      26200|        No|     TME6IG|  null|  null|  null|  null|  null|  null|  null|  null|\n",
            "|2022-05-17 11:49:44|       6384|            375173| 22430527987|rejected|cc_rejected_high_...|            2619.0|           1|  credit_card|          11|          1|            5|              null|               none|              null|             null|               null|      Estafeta|      99|       26200|      26200|        No|     TME6IG|  null|  null|  null|  null|  null|  null|  null|  null|\n",
            "|2022-05-17 14:19:02|       1298|            375225| 22434481190| pending|pending_waiting_p...|              98.0|           1|          atm|          14|          1|            5|              null|               none|              null|             null|               null|FederalExpress|      39|       57940|      57940|        No|   TMCHIP30|  null|  null|  null|  null|  null|  null|  null|  null|\n",
            "|2022-05-17 10:20:40|      11515|            375151| 22428099519|rejected|cc_rejected_high_...|            6196.0|           1|   debit_card|          10|          1|            5|              null|               none|              null|             null|               null|FederalExpress|       0|       52918|      52918|        No|     TMA52V|  null|  null|  null|  null|  null|  null|  null|  null|\n",
            "+-------------------+-----------+------------------+------------+--------+--------------------+------------------+------------+-------------+------------+-----------+-------------+------------------+-------------------+------------------+-----------------+-------------------+--------------+--------+------------+-----------+----------+-----------+------+------+------+------+------+------+------+------+\n",
            "only showing top 10 rows\n",
            "\n"
          ]
        }
      ]
    },
    {
      "cell_type": "code",
      "source": [
        "#Casting date_created column into a timestamp column\n",
        "from pyspark.sql.functions import *\n",
        "whole_collection_df=whole_collection_df.withColumn(\"date_created\",to_timestamp(\"date_created\"))"
      ],
      "metadata": {
        "id": "0yzJaJa3uRc3"
      },
      "execution_count": 35,
      "outputs": []
    },
    {
      "cell_type": "code",
      "source": [
        "# Load in CPs_Geometry from S3 into a DataFrame\n",
        "url = \"https://my-team3-tmfinalproject2022.s3.amazonaws.com/CPs_Geometry.csv\"\n",
        "spark.sparkContext.addFile(url)\n",
        "\n",
        "cps_geometry_df = spark.read.option('header', 'true').csv(SparkFiles.get(\"CPs_Geometry.csv\"), inferSchema=True, sep=',')\n",
        "cps_geometry_df.show(10)"
      ],
      "metadata": {
        "colab": {
          "base_uri": "https://localhost:8080/"
        },
        "id": "WGvrvP3lpVml",
        "outputId": "44e527f9-ae1d-4cdb-baa0-1055078e1747"
      },
      "execution_count": 22,
      "outputs": [
        {
          "output_type": "stream",
          "name": "stdout",
          "text": [
            "+-----------+------+------------+-----------------+----------------+\n",
            "|postal_code| state|municipality|        longitude|        latitude|\n",
            "+-----------+------+------------+-----------------+----------------+\n",
            "|      28089|Colima|      Colima|-103.734926980881|19.2228453654363|\n",
            "|      28656|Colima|      Colima|-103.565674051469|18.9133416441602|\n",
            "|      28000|Colima|      Colima|-103.725402479529|19.2419258678293|\n",
            "|      28010|Colima|      Colima|-103.714608687286|19.2501391841229|\n",
            "|      28600|Colima|      Colima|-103.686323332837|19.1369780674865|\n",
            "|      28078|Colima|      Colima|-103.751415170745|19.2349653118884|\n",
            "|      28635|Colima|      Colima|-103.595117083654|19.1957429869816|\n",
            "|      28067|Colima|      Colima|-103.706534032834|19.2330755727729|\n",
            "|      28080|Colima|      Colima|-103.731627465412|19.2271745326631|\n",
            "|      28634|Colima|      Colima|-103.578108549626|19.1748737080013|\n",
            "+-----------+------+------------+-----------------+----------------+\n",
            "only showing top 10 rows\n",
            "\n"
          ]
        }
      ]
    },
    {
      "cell_type": "code",
      "source": [
        "#Renaming columns before joins of dataframes\n",
        "cps_geometry_df=cps_geometry_df.withColumnRenamed('postal_code','shp_zipcode')"
      ],
      "metadata": {
        "id": "ow5coR4TpVqZ"
      },
      "execution_count": 36,
      "outputs": []
    },
    {
      "cell_type": "code",
      "source": [
        "#Joining both dataframes\n",
        "whole_collection_geom_df=whole_collection_df.join(cps_geometry_df, on='shp_zipcode', how='inner')\n",
        "whole_collection_geom_df.show()"
      ],
      "metadata": {
        "colab": {
          "base_uri": "https://localhost:8080/"
        },
        "id": "aco9WerdpV8a",
        "outputId": "04822876-5bf9-4ffa-bf49-30192f069a5f"
      },
      "execution_count": 37,
      "outputs": [
        {
          "output_type": "stream",
          "name": "stdout",
          "text": [
            "+-----------+-------------------+-----------+------------------+------------+--------+--------------------+------------------+------------+-------------+------------+-----------+-------------+------------------+-------------------+------------------+-----------------+-------------------+--------------+--------+------------+----------+-------------------+------+------+------+------+------+------+------+------+--------------------+--------------------+-----------------+----------------+\n",
            "|shp_zipcode|       date_created|customer_ID|external_reference|operation_id|  status|       status_detail|transaction_amount|installments| payment_type|hour_created|DOW_created|month_created|claim_date_created|claim_status_detail|claim_hour_created|claim_DOW_created|claim_month_created|   shp_Carrier|Shipping|bill_zipcode|fraud_flag|             Item_1|Item_2|Item_3|Item_4|Item_5|Item_6|Item_7|Item_8|Item_9|               state|        municipality|        longitude|        latitude|\n",
            "+-----------+-------------------+-----------+------------------+------------+--------+--------------------+------------------+------------+-------------+------------+-----------+-------------+------------------+-------------------+------------------+-----------------+-------------------+--------------+--------+------------+----------+-------------------+------+------+------+------+------+------+------+------+--------------------+--------------------+-----------------+----------------+\n",
            "|      88660|2022-05-17 17:02:12|       2383|            375285| 22439390268|approved|          accredited|            4549.0|           1|   debit_card|          17|          1|            5|              null|               none|              null|             null|               null|           DHL|     139|       88660|        No|         TMG50V64GB|  null|  null|  null|  null|  null|  null|  null|  null|          Tamaulipas|             Reynosa|-98.2938295417679|26.0742842953692|\n",
            "|      88660|2022-05-17 17:00:42|       2383|            375284| 22439310665|approved|          accredited|            4549.0|           1|   debit_card|          17|          1|            5|              null|               none|              null|             null|               null|           DHL|     139|       88660|        No|         TMG50V64GB|  null|  null|  null|  null|  null|  null|  null|  null|          Tamaulipas|             Reynosa|-98.2938295417679|26.0742842953692|\n",
            "|      89350|2022-05-17 13:23:07|       2811|            375213| 22433076416|rejected|cc_rejected_high_...|            6378.0|           3|  credit_card|          13|          1|            5|              null|               none|              null|             null|               null|           DHL|     139|       89350|        No|           TMG7AZUL|  null|  null|  null|  null|  null|  null|  null|  null|          Tamaulipas|             Tampico|-97.8807252436643|22.3149922999182|\n",
            "|      89350|2022-05-17 13:26:43|       2811|            375217| 22433120457|rejected|cc_rejected_high_...|            6378.0|           1|  credit_card|          13|          1|            5|              null|               none|              null|             null|               null|           DHL|     139|       89350|        No|           TMG7AZUL|  null|  null|  null|  null|  null|  null|  null|  null|          Tamaulipas|             Tampico|-97.8807252436643|22.3149922999182|\n",
            "|      55067|2022-05-17 15:01:25|       4291|            375235| 22435577370|approved|          accredited|            6689.0|           9|  credit_card|          15|          1|            5|              null|               none|              null|             null|               null|FederalExpress|       0|       55067|        No|        TMREALMEGTG|  null|  null|  null|  null|  null|  null|  null|  null|              México| Ecatepec de Morelos|-98.9910374822831|19.6415692903853|\n",
            "|      57940|2022-05-17 14:26:29|       1298|            375231| 22434583898|approved|          accredited|              98.0|           1|account_money|          14|          1|            5|              null|               none|              null|             null|               null|FederalExpress|      39|       57940|        No|           TMCHIP30|  null|  null|  null|  null|  null|  null|  null|  null|              México|      Nezahualcóyotl|-98.9899678135799|19.3731313430865|\n",
            "|      26200|2022-05-17 11:48:02|       6384|            375173| 22430528734|rejected|cc_rejected_other...|            2619.0|           1|  credit_card|          11|          1|            5|              null|               none|              null|             null|               null|      Estafeta|      99|       26200|        No|             TME6IG|  null|  null|  null|  null|  null|  null|  null|  null|Coahuila de Zaragoza|               Acuña|-100.935786748105|29.3206988369798|\n",
            "|      26200|2022-05-17 11:49:44|       6384|            375173| 22430527987|rejected|cc_rejected_high_...|            2619.0|           1|  credit_card|          11|          1|            5|              null|               none|              null|             null|               null|      Estafeta|      99|       26200|        No|             TME6IG|  null|  null|  null|  null|  null|  null|  null|  null|Coahuila de Zaragoza|               Acuña|-100.935786748105|29.3206988369798|\n",
            "|      57940|2022-05-17 14:19:02|       1298|            375225| 22434481190| pending|pending_waiting_p...|              98.0|           1|          atm|          14|          1|            5|              null|               none|              null|             null|               null|FederalExpress|      39|       57940|        No|           TMCHIP30|  null|  null|  null|  null|  null|  null|  null|  null|              México|      Nezahualcóyotl|-98.9899678135799|19.3731313430865|\n",
            "|      52918|2022-05-17 10:20:40|      11515|            375151| 22428099519|rejected|cc_rejected_high_...|            6196.0|           1|   debit_card|          10|          1|            5|              null|               none|              null|             null|               null|FederalExpress|       0|       52918|        No|             TMA52V|  null|  null|  null|  null|  null|  null|  null|  null|              México|Atizapán de Zaragoza|-99.2612663370643|19.5991104881607|\n",
            "|      52918|2022-05-17 12:17:04|      11515|            375151| 22431399500|rejected|cc_rejected_high_...|            6196.0|           1|   debit_card|          12|          1|            5|              null|               none|              null|             null|               null|FederalExpress|       0|       52918|        No|             TMA52V|  null|  null|  null|  null|  null|  null|  null|  null|              México|Atizapán de Zaragoza|-99.2612663370643|19.5991104881607|\n",
            "|      52918|2022-05-17 12:21:29|      11515|            375151| 22431596222|rejected|cc_rejected_high_...|            6196.0|           1|   debit_card|          12|          1|            5|              null|               none|              null|             null|               null|FederalExpress|       0|       52918|        No|             TMA52V|  null|  null|  null|  null|  null|  null|  null|  null|              México|Atizapán de Zaragoza|-99.2612663370643|19.5991104881607|\n",
            "|      75859|2022-05-17 00:13:29|       9759|            375064| 22420749753|rejected|cc_rejected_other...|            8299.0|           3|  credit_card|           0|          1|            5|              null|               none|              null|             null|               null|      Estafeta|      99|       75859|        No| TMA53AZULASOMBROSO|  null|  null|  null|  null|  null|  null|  null|  null|              Puebla|            Tehuacán|-97.3468169089688|18.4186482733402|\n",
            "|      75859|2022-05-17 00:15:29|       9759|            375064| 22420767035|rejected|cc_rejected_high_...|            8299.0|           1|   debit_card|           0|          1|            5|              null|               none|              null|             null|               null|      Estafeta|      99|       75859|        No| TMA53AZULASOMBROSO|  null|  null|  null|  null|  null|  null|  null|  null|              Puebla|            Tehuacán|-97.3468169089688|18.4186482733402|\n",
            "|      64840|2022-05-16 23:34:39|       9172|            375054| 22420623610|approved|          accredited|            8999.0|           1|   debit_card|          23|          0|            5|              null|               none|              null|             null|               null|FederalExpress|       0|       64840|        No|   TMGS20FECOULDRED|  null|  null|  null|  null|  null|  null|  null|  null|          Nuevo León|           Monterrey|-100.287768860257|25.6459407016514|\n",
            "|      24904|2022-05-16 22:53:01|       3091|            375033| 22420415348|approved|          accredited|            1749.8|           1|   debit_card|          22|          0|            5|              null|               none|              null|             null|               null|FederalExpress|       0|       24902|        No|       TMZTEA31GRIS|  null|  null|  null|  null|  null|  null|  null|  null|            Campeche|             Calkiní|-90.0640926478396|20.3617767283468|\n",
            "|      60650|2022-05-16 17:26:41|       6149|            374919| 22414609163|rejected|cc_rejected_high_...|            6196.0|           1|   debit_card|          17|          0|            5|              null|               none|              null|             null|               null|      Estafeta|      99|       60650|        No|             TMA52B|  null|  null|  null|  null|  null|  null|  null|  null| Michoacán de Ocampo|          Apatzingán|-102.346343358024|19.0902477869103|\n",
            "|      58337|2022-05-16 17:40:12|      11630|            374923| 22415000117|approved|          accredited|              98.0|           1|account_money|          17|          0|            5|              null|               none|              null|             null|               null|FederalExpress|       0|       58337|        No|           TMCHIP30|  null|  null|  null|  null|  null|  null|  null|  null| Michoacán de Ocampo|             Morelia|-101.267202815449|19.6968381707184|\n",
            "|      45130|2022-05-16 15:42:19|       4129|            374884| 22411339009|approved|          accredited|            6196.0|           1|   debit_card|          15|          0|            5|              null|               none|              null|             null|               null|      Estafeta|      99|       45130|        No|             TMA52V|  null|  null|  null|  null|  null|  null|  null|  null|             Jalisco|             Zapopan|-103.400208676604|20.7486651302022|\n",
            "|      11840|2022-05-16 15:32:03|      11454|            374879| 22411011215|approved|          accredited|            5168.0|           1|  credit_card|          15|          0|            5|              null|               none|              null|             null|               null|FederalExpress|       0|       11000|        No|TMM4PRO4GNEGRO256GB|  null|  null|  null|  null|  null|  null|  null|  null|    Ciudad de México|      Miguel Hidalgo|-99.1941621280804|19.4087961448934|\n",
            "+-----------+-------------------+-----------+------------------+------------+--------+--------------------+------------------+------------+-------------+------------+-----------+-------------+------------------+-------------------+------------------+-----------------+-------------------+--------------+--------+------------+----------+-------------------+------+------+------+------+------+------+------+------+--------------------+--------------------+-----------------+----------------+\n",
            "only showing top 20 rows\n",
            "\n"
          ]
        }
      ]
    },
    {
      "cell_type": "code",
      "source": [
        "# Droping nan columns\n",
        "whole_collection_geom_df=whole_collection_geom_df.dropna(how='any', subset='municipality')"
      ],
      "metadata": {
        "id": "sTC8G1lR3mJL"
      },
      "execution_count": 53,
      "outputs": []
    },
    {
      "cell_type": "code",
      "source": [
        "# Configure setting for RDS\n",
        "password=input()\n",
        "mode = 'append'\n",
        "jdbc_url='jdbc:postgresql://mypostgresfinalprojectdb.c83cfcogcthm.us-east-2.rds.amazonaws.com:5432/my_data_finalproject'\n",
        "config ={'user':\"root\",\n",
        "         \"password\":f'{password}',\n",
        "         \"driver\":\"org.postgresql.Driver\"}"
      ],
      "metadata": {
        "colab": {
          "base_uri": "https://localhost:8080/"
        },
        "id": "ULTUTuD97WI_",
        "outputId": "b83f5522-c159-4a94-e747-02d310ba191a"
      },
      "execution_count": 61,
      "outputs": [
        {
          "name": "stdout",
          "output_type": "stream",
          "text": [
            "postgresfp\n"
          ]
        }
      ]
    },
    {
      "cell_type": "code",
      "source": [
        "# Write Dataframe to whole_collection_geom table in RDS\n",
        "whole_collection_geom_df.write.jdbc(url=jdbc_url, table='Whole_Collection_Geom',mode=mode, properties=config)"
      ],
      "metadata": {
        "id": "vOCFVl5V9wg_"
      },
      "execution_count": 62,
      "outputs": []
    },
    {
      "cell_type": "code",
      "source": [
        ""
      ],
      "metadata": {
        "id": "iOK5UkDn9xhC"
      },
      "execution_count": null,
      "outputs": []
    },
    {
      "cell_type": "code",
      "source": [
        ""
      ],
      "metadata": {
        "id": "Ti_rdecA9xsE"
      },
      "execution_count": null,
      "outputs": []
    }
  ]
}